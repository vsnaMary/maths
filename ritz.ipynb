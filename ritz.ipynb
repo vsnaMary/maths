{
 "cells": [
  {
   "cell_type": "code",
   "execution_count": 43,
   "id": "7a823edd",
   "metadata": {},
   "outputs": [],
   "source": [
    "import numpy as np\n",
    "import matplotlib.pyplot as plt"
   ]
  },
  {
   "cell_type": "code",
   "execution_count": 44,
   "id": "0d6d305c",
   "metadata": {},
   "outputs": [],
   "source": [
    "def func(c, N, h):\n",
    "    s1 = 0\n",
    "    s2 = 0\n",
    "    s3 = 0\n",
    "    s4 = 0\n",
    "    \n",
    "    for j in range(N):\n",
    "        c_jm1 = c[j - 1] if j > 0 else 0.0      # c_(j - 1)\n",
    "        c_jp1 = c[j + 1] if j < N - 1 else 0.0  # c_(j + 1)\n",
    "        c_j = c[j]\n",
    "        \n",
    "        s1 += c_j**2  - c_j * c_jm1 - c_j * c_jp1\n",
    "        s2 += 1 / 3 * c_j**2 + 1 / 6 * c_j * c_jm1 + 1 / 6 * c_j * c_jp1\n",
    "        s3 += np.arctan((j + 1) * h) * np.sin(2 * c_j)\n",
    "        s4 += c_j\n",
    "        \n",
    "    result = 1 / h * s1 + 9 * h * s2 - h / 2 * s3 - h * s4    \n",
    "    \n",
    "    return result\n",
    "    \n",
    "\n",
    "def grad(c, N, h):\n",
    "    result = np.copy(c)\n",
    "    \n",
    "    # Рассчитаем по очереди все c_j\n",
    "    for j in range(N):\n",
    "        c_jm1 = c[j - 1] if j > 0 else 0.0      # c_(j - 1)\n",
    "        c_jp1 = c[j + 1] if j < N - 1 else 0.0  # c_(j + 1)\n",
    "        c_j = c[j]\n",
    "        \n",
    "        s1 = 2 * c_j - c_jm1 - c_jp1\n",
    "        s2 = 2 / 3 * c_j + 1 / 6 * c_jm1 + 1 / 6 * c_jp1\n",
    "        s3 = 0\n",
    "                \n",
    "        for k in range(N):\n",
    "            s3 += np.arctan((k + 1) * h) * np.cos(2 * c[k])\n",
    "        \n",
    "        result[j] = 1 / h * s1 + 9 * h * s2 - h * s3 - h\n",
    "        \n",
    "    return result\n",
    "        "
   ]
  },
  {
   "cell_type": "code",
   "execution_count": 49,
   "id": "8faad4b5",
   "metadata": {},
   "outputs": [],
   "source": [
    "def gradient_descent(c_0, func, grad, N, h, tolerance, max_steps=100):    \n",
    "    c_k = np.copy(c_0)\n",
    "    c_kp1 = np.array(len(c_0))\n",
    "    \n",
    "    for i in range(max_steps):\n",
    "        w = 1             \n",
    "        \n",
    "        c_kp1 = c_k - w * h * grad(c_k, N, h)\n",
    "        \n",
    "        while func(c_kp1, N, h) > func(c_k, N ,h):\n",
    "            w = w / 2\n",
    "            c_kp1 = c_k - w * h * grad(c_k, N, h)\n",
    "        \n",
    "        if np.linalg.norm(c_kp1 - c_k) < tolerance:\n",
    "            break        \n",
    "            \n",
    "        c_k = np.copy(c_kp1)\n",
    "\n",
    "    return c_kp1"
   ]
  },
  {
   "cell_type": "code",
   "execution_count": 45,
   "id": "8108e424",
   "metadata": {},
   "outputs": [],
   "source": [
    "N = 99\n",
    "xs = np.linspace(0,1,N)\n",
    "h = 1/(N - 1)\n",
    "j = np.arange(N)\n",
    "c_0 = (-np.exp(3-3*j*h) - np.exp(3*j*h) + 1 + np.exp(3))/(9 + 9* np.exp(3))"
   ]
  },
  {
   "cell_type": "code",
   "execution_count": 46,
   "id": "33c96294",
   "metadata": {},
   "outputs": [],
   "source": [
    "def e(xs):\n",
    "    res = np.copy(xs)\n",
    "    \n",
    "    for i, x in enumerate(xs):\n",
    "        if -1 <= x and x < 0:\n",
    "            res[i] = x + 1\n",
    "        elif 0 <= x and x <= 1:\n",
    "            res[i] = 1 - x\n",
    "        else: \n",
    "            res[i] = 0\n",
    "            \n",
    "    return res"
   ]
  },
  {
   "cell_type": "code",
   "execution_count": 47,
   "id": "9bec18a6",
   "metadata": {},
   "outputs": [],
   "source": [
    "def u(x,c,e):\n",
    "    result = 0\n",
    "    for i in range(N):\n",
    "        result += c[i] * e(x/h-i+1)\n",
    "    return result"
   ]
  },
  {
   "cell_type": "code",
   "execution_count": 7,
   "id": "5794f0c3",
   "metadata": {},
   "outputs": [
    {
     "data": {
      "text/plain": [
       "[<matplotlib.lines.Line2D at 0x7f9427cc2c10>]"
      ]
     },
     "execution_count": 7,
     "metadata": {},
     "output_type": "execute_result"
    },
    {
     "data": {
      "image/png": "[encoded data removed]",
      "text/plain": [
       "<Figure size 360x360 with 1 Axes>"
      ]
     },
     "metadata": {
      "needs_background": "light"
     },
     "output_type": "display_data"
    }
   ],
   "source": [
    "plt.figure(figsize=(5, 5))\n",
    "plt.plot(xs, c_0, 'g')"
   ]
  },
  {
   "cell_type": "code",
   "execution_count": 50,
   "id": "ac2ea805",
   "metadata": {},
   "outputs": [],
   "source": [
    "tol = 0.001\n",
    "res = gradient_descent(c_0, func, grad, N, h, tol, max_steps=10000)\n"
   ]
  },
  {
   "cell_type": "code",
   "execution_count": 51,
   "id": "1ca442d9",
   "metadata": {},
   "outputs": [
    {
     "data": {
      "text/plain": [
       "[<matplotlib.lines.Line2D at 0x7f9424b8ae50>]"
      ]
     },
     "execution_count": 51,
     "metadata": {},
     "output_type": "execute_result"
    },
    {
     "data": {
      "image/png": "[encoded data removed]",
      "text/plain": [
       "<Figure size 432x432 with 1 Axes>"
      ]
     },
     "metadata": {
      "needs_background": "light"
     },
     "output_type": "display_data"
    }
   ],
   "source": [
    "xs_u = np.linspace(0, 1, 10 * N)\n",
    "plt.figure(figsize=(6, 6))\n",
    "plt.plot(xs_u, u(xs_u, res, e), 'g')"
   ]
  }
 ],
 "metadata": {
  "kernelspec": {
   "display_name": "Python 3 (ipykernel)",
   "language": "python",
   "name": "python3"
  },
  "language_info": {
   "codemirror_mode": {
    "name": "ipython",
    "version": 3
   },
   "file_extension": ".py",
   "mimetype": "text/x-python",
   "name": "python",
   "nbconvert_exporter": "python",
   "pygments_lexer": "ipython3",
   "version": "3.8.5"
  }
 },
 "nbformat": 4,
 "nbformat_minor": 5
}
